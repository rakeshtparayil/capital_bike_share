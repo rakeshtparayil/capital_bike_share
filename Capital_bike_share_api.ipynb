{
 "cells": [
  {
   "cell_type": "code",
   "execution_count": 2,
   "metadata": {},
   "outputs": [],
   "source": [
    "import pandas as pd\n",
    "import numpy as np\n",
    "import matplotlib.pyplot as plt\n",
    "import seaborn as sns\n",
    "import json \n",
    "import requests\n",
    "import folium\n"
   ]
  },
  {
   "cell_type": "code",
   "execution_count": 3,
   "metadata": {},
   "outputs": [
    {
     "name": "stdout",
     "output_type": "stream",
     "text": [
      "Data successfully retrieved!\n",
      "   is_reserved        lon  current_range_meters  \\\n",
      "0            0 -77.062423            29290.0608   \n",
      "1            0 -76.987389            27036.9792   \n",
      "2            0 -77.110925            16254.3744   \n",
      "3            0 -76.985159            31060.3392   \n",
      "4            0 -77.097236            13035.6864   \n",
      "\n",
      "                                         rental_uris vehicle_type_id  \\\n",
      "0  {'android': 'https://dc.lft.to/lastmile_qr_sca...               2   \n",
      "1  {'android': 'https://dc.lft.to/lastmile_qr_sca...               2   \n",
      "2  {'android': 'https://dc.lft.to/lastmile_qr_sca...               2   \n",
      "3  {'android': 'https://dc.lft.to/lastmile_qr_sca...               2   \n",
      "4  {'android': 'https://dc.lft.to/lastmile_qr_sca...               2   \n",
      "\n",
      "                            bike_id  is_disabled        lat  \n",
      "0  47975f44ac4dfe7e219d337d38ece106            0  38.821637  \n",
      "1  feba6ff94ef6b2448b995607946e40d6            0  38.958191  \n",
      "2  c5017034ed24aaff07d1b760bbc37e59            0  38.880240  \n",
      "3  d22af31c7c5549a053c2d96ed5c47e24            0  38.998507  \n",
      "4  8bd9b6590d8f6d48ac0759a825589b1a            0  38.932512  \n"
     ]
    }
   ],
   "source": [
    "# Define the URL for the free bike status feed\n",
    "url = \"https://gbfs.lyft.com/gbfs/2.3/dca-cabi/en/free_bike_status.json\"\n",
    "\n",
    "# Fetch the data\n",
    "response = requests.get(url)\n",
    "\n",
    "# Check if the request was successful\n",
    "if response.status_code == 200:\n",
    "    # Parse the JSON response\n",
    "    free_bike_data = response.json()\n",
    "    # Extract the 'bikes' data into a DataFrame\n",
    "    bikes = free_bike_data['data']['bikes']\n",
    "    df = pd.DataFrame(bikes)\n",
    "    \n",
    "    # Display the first few rows of the DataFrame\n",
    "    print(\"Data successfully retrieved!\")\n",
    "    print(df.head())\n",
    "else:\n",
    "    print(f\"Failed to fetch data. HTTP Status Code: {response.status_code}\")"
   ]
  },
  {
   "cell_type": "code",
   "execution_count": 6,
   "metadata": {},
   "outputs": [
    {
     "name": "stdout",
     "output_type": "stream",
     "text": [
      "Data successfully exported as 'free_bike_status.csv'.\n"
     ]
    }
   ],
   "source": [
    "# Define the URL for the free bike status feed\n",
    "url = \"https://gbfs.lyft.com/gbfs/2.3/dca-cabi/en/free_bike_status.json\"\n",
    "\n",
    "# Fetch the data\n",
    "response = requests.get(url)\n",
    "if response.status_code == 200:\n",
    "    free_bike_data = response.json()\n",
    "    bikes = free_bike_data['data']['bikes']\n",
    "    df = pd.DataFrame(bikes)\n",
    "else:\n",
    "    print(f\"Failed to fetch data. HTTP Status Code: {response.status_code}\")\n",
    "    df = pd.DataFrame()  # Empty DataFrame for safety\n",
    "\n",
    "# Ensure the DataFrame is not empty\n",
    "if not df.empty:\n",
    "    # Create a map centered at the average location of all bikes\n",
    "    map_center = [df['lat'].mean(), df['lon'].mean()]\n",
    "    bike_map = folium.Map(location=map_center, zoom_start=13)\n",
    "\n",
    "    # Add markers for each bike\n",
    "    for _, bike in df.iterrows():\n",
    "        folium.Marker(\n",
    "            location=[bike['lat'], bike['lon']],\n",
    "            popup=f\"Bike ID: {bike['bike_id']}\\nDisabled: {bike['is_disabled']}\",\n",
    "            icon=folium.Icon(color=\"green\" if bike['is_disabled'] == 0 else \"red\"),\n",
    "        ).add_to(bike_map)\n",
    "\n",
    "    # Save and display the map\n",
    "    bike_map.save(\"free_bike_status_map.html\")\n",
    "    bike_map\n",
    "else:\n",
    "    print(\"No data available to map.\")\n",
    "\n",
    "# Save to CSV\n",
    "df.to_csv(\"free_bike_status.csv\", index=False)\n",
    "print(\"Data successfully exported as 'free_bike_status.csv'.\")"
   ]
  },
  {
   "cell_type": "code",
   "execution_count": 6,
   "metadata": {},
   "outputs": [
    {
     "name": "stdout",
     "output_type": "stream",
     "text": [
      "Full Vehicle Type Data:\n",
      "  form_factor vehicle_type_id  propulsion_type  max_range_meters\n",
      "0     bicycle               1            human               NaN\n",
      "1     bicycle               2  electric_assist          55844.24\n"
     ]
    }
   ],
   "source": [
    "import requests\n",
    "import pandas as pd\n",
    "\n",
    "# Define the URL for the vehicle_types.json feed\n",
    "url = \"https://gbfs.lyft.com/gbfs/2.3/dca-cabi/en/vehicle_types.json\"\n",
    "\n",
    "# Fetch the data\n",
    "response = requests.get(url)\n",
    "\n",
    "if response.status_code == 200:\n",
    "    # Parse the JSON response\n",
    "    vehicle_data = response.json()\n",
    "    \n",
    "    # Extract the vehicle types\n",
    "    vehicle_types = vehicle_data['data']['vehicle_types']\n",
    "    \n",
    "    # Convert the data into a DataFrame for better visualization\n",
    "    df = pd.DataFrame(vehicle_types)\n",
    "    \n",
    "    # Display the first few rows of the DataFrame\n",
    "    print(\"Full Vehicle Type Data:\")\n",
    "    print(df.head())  # Display the first 5 rows\n",
    "else:\n",
    "    print(f\"Failed to fetch data. HTTP Status Code: {response.status_code}\")"
   ]
  }
 ],
 "metadata": {
  "kernelspec": {
   "display_name": "CAB_V1",
   "language": "python",
   "name": "python3"
  },
  "language_info": {
   "codemirror_mode": {
    "name": "ipython",
    "version": 3
   },
   "file_extension": ".py",
   "mimetype": "text/x-python",
   "name": "python",
   "nbconvert_exporter": "python",
   "pygments_lexer": "ipython3",
   "version": "3.12.2"
  }
 },
 "nbformat": 4,
 "nbformat_minor": 2
}
