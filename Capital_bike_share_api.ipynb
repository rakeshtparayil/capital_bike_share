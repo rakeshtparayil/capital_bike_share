{
 "cells": [
  {
   "cell_type": "code",
   "execution_count": 10,
   "metadata": {},
   "outputs": [
    {
     "ename": "ModuleNotFoundError",
     "evalue": "No module named 'ace_tools'",
     "output_type": "error",
     "traceback": [
      "\u001b[0;31m---------------------------------------------------------------------------\u001b[0m",
      "\u001b[0;31mModuleNotFoundError\u001b[0m                       Traceback (most recent call last)",
      "Cell \u001b[0;32mIn[10], line 8\u001b[0m\n\u001b[1;32m      6\u001b[0m \u001b[38;5;28;01mimport\u001b[39;00m \u001b[38;5;21;01mrequests\u001b[39;00m\n\u001b[1;32m      7\u001b[0m \u001b[38;5;28;01mimport\u001b[39;00m \u001b[38;5;21;01mfolium\u001b[39;00m\n\u001b[0;32m----> 8\u001b[0m \u001b[38;5;28;01mimport\u001b[39;00m \u001b[38;5;21;01mace_tools\u001b[39;00m \u001b[38;5;28;01mas\u001b[39;00m \u001b[38;5;21;01mat\u001b[39;00m\n",
      "\u001b[0;31mModuleNotFoundError\u001b[0m: No module named 'ace_tools'"
     ]
    }
   ],
   "source": [
    "import pandas as pd\n",
    "import numpy as np\n",
    "import matplotlib.pyplot as plt\n",
    "import seaborn as sns\n",
    "import json \n",
    "import requests\n",
    "import folium\n"
   ]
  },
  {
   "cell_type": "code",
   "execution_count": null,
   "metadata": {},
   "outputs": [
    {
     "name": "stdout",
     "output_type": "stream",
     "text": [
      "Full Vehicle Type Data:\n",
      "   propulsion_type vehicle_type_id form_factor  max_range_meters\n",
      "0            human               1     bicycle               NaN\n",
      "1  electric_assist               2     bicycle          55844.24\n"
     ]
    }
   ],
   "source": [
    "# Define the URL for the free bike status feed\n",
    "url = \"https://gbfs.lyft.com/gbfs/2.3/dca-cabi/en/free_bike_status.json\"\n",
    "\n",
    "# Fetch the data\n",
    "response = requests.get(url)\n",
    "\n",
    "# Check if the request was successful\n",
    "if response.status_code == 200:\n",
    "    # Parse the JSON response\n",
    "    free_bike_data = response.json()\n",
    "    # Extract the 'bikes' data into a DataFrame\n",
    "    bikes = free_bike_data['data']['bikes']\n",
    "    df = pd.DataFrame(bikes)\n",
    "    \n",
    "    # Display the first few rows of the DataFrame\n",
    "    print(\"Data successfully retrieved!\")\n",
    "    print(df.head())\n",
    "else:\n",
    "    print(f\"Failed to fetch data. HTTP Status Code: {response.status_code}\")"
   ]
  },
  {
   "cell_type": "code",
   "execution_count": 7,
   "metadata": {},
   "outputs": [],
   "source": [
    "# Define the URL for the free bike status feed\n",
    "url = \"https://gbfs.lyft.com/gbfs/2.3/dca-cabi/en/free_bike_status.json\"\n",
    "\n",
    "# Fetch the data\n",
    "response = requests.get(url)\n",
    "if response.status_code == 200:\n",
    "    free_bike_data = response.json()\n",
    "    bikes = free_bike_data['data']['bikes']\n",
    "    df = pd.DataFrame(bikes)\n",
    "else:\n",
    "    print(f\"Failed to fetch data. HTTP Status Code: {response.status_code}\")\n",
    "    df = pd.DataFrame()  # Empty DataFrame for safety\n",
    "\n",
    "# Ensure the DataFrame is not empty\n",
    "if not df.empty:\n",
    "    # Create a map centered at the average location of all bikes\n",
    "    map_center = [df['lat'].mean(), df['lon'].mean()]\n",
    "    bike_map = folium.Map(location=map_center, zoom_start=13)\n",
    "\n",
    "    # Add markers for each bike\n",
    "    for _, bike in df.iterrows():\n",
    "        folium.Marker(\n",
    "            location=[bike['lat'], bike['lon']],\n",
    "            popup=f\"Bike ID: {bike['bike_id']}\\nDisabled: {bike['is_disabled']}\",\n",
    "            icon=folium.Icon(color=\"green\" if bike['is_disabled'] == 0 else \"red\"),\n",
    "        ).add_to(bike_map)\n",
    "\n",
    "    # Save and display the map\n",
    "    bike_map.save(\"free_bike_status_map.html\")\n",
    "    bike_map\n",
    "else:\n",
    "    print(\"No data available to map.\")"
   ]
  },
  {
   "cell_type": "code",
   "execution_count": 12,
   "metadata": {},
   "outputs": [
    {
     "name": "stdout",
     "output_type": "stream",
     "text": [
      "Full Vehicle Type Data:\n",
      "   propulsion_type vehicle_type_id form_factor  max_range_meters\n",
      "0            human               1     bicycle               NaN\n",
      "1  electric_assist               2     bicycle          55844.24\n"
     ]
    }
   ],
   "source": [
    "import requests\n",
    "import pandas as pd\n",
    "\n",
    "# Define the URL for the vehicle_types.json feed\n",
    "url = \"https://gbfs.lyft.com/gbfs/2.3/dca-cabi/en/vehicle_types.json\"\n",
    "\n",
    "# Fetch the data\n",
    "response = requests.get(url)\n",
    "\n",
    "if response.status_code == 200:\n",
    "    # Parse the JSON response\n",
    "    vehicle_data = response.json()\n",
    "    \n",
    "    # Extract the vehicle types\n",
    "    vehicle_types = vehicle_data['data']['vehicle_types']\n",
    "    \n",
    "    # Convert the data into a DataFrame for better visualization\n",
    "    df = pd.DataFrame(vehicle_types)\n",
    "    \n",
    "    # Display the first few rows of the DataFrame\n",
    "    print(\"Full Vehicle Type Data:\")\n",
    "    print(df.head())  # Display the first 5 rows\n",
    "else:\n",
    "    print(f\"Failed to fetch data. HTTP Status Code: {response.status_code}\")"
   ]
  }
 ],
 "metadata": {
  "kernelspec": {
   "display_name": "CAB_V1",
   "language": "python",
   "name": "python3"
  },
  "language_info": {
   "codemirror_mode": {
    "name": "ipython",
    "version": 3
   },
   "file_extension": ".py",
   "mimetype": "text/x-python",
   "name": "python",
   "nbconvert_exporter": "python",
   "pygments_lexer": "ipython3",
   "version": "3.12.2"
  }
 },
 "nbformat": 4,
 "nbformat_minor": 2
}
