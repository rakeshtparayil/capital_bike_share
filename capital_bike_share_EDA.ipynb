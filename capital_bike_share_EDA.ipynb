{
 "cells": [
  {
   "cell_type": "code",
   "execution_count": 2,
   "metadata": {},
   "outputs": [],
   "source": [
    "import pandas as pd\n",
    "import numpy as np\n",
    "import matplotlib.pyplot as plt\n",
    "import seaborn as sk\n",
    "\n",
    "bike_daily = pd.read_csv('daily_weather.csv')\n",
    "bike_master = pd.read_csv('bike_full.csv', dtype={5: str, 7: str})  # Convert both columns to strings\n",
    "\n"
   ]
  },
  {
   "cell_type": "code",
   "execution_count": 3,
   "metadata": {},
   "outputs": [],
   "source": [
    "bike_master_clean = bike_master.copy()\n",
    "\n",
    "# Convert datetime columns\n",
    "bike_master_clean['started_at'] = pd.to_datetime(bike_master_clean['started_at'])\n",
    "bike_master_clean['ended_at'] = pd.to_datetime(bike_master_clean['ended_at'])\n",
    "\n",
    "# Convert category columns\n",
    "category_columns = ['rideable_type', 'start_station_name', 'end_station_name', 'member_casual']\n",
    "for col in category_columns:\n",
    "    bike_master_clean[col] = bike_master_clean[col].astype('category')\n",
    "\n",
    "# Convert string columns (IDs)\n",
    "string_columns = ['ride_id', 'start_station_id', 'end_station_id']\n",
    "for col in string_columns:\n",
    "    bike_master_clean[col] = bike_master_clean[col].astype('string')\n",
    "\n"
   ]
  },
  {
   "cell_type": "code",
   "execution_count": 4,
   "metadata": {},
   "outputs": [
    {
     "data": {
      "text/plain": [
       "(10693997, 13)"
      ]
     },
     "execution_count": 4,
     "metadata": {},
     "output_type": "execute_result"
    }
   ],
   "source": [
    "bike_master_clean.dtypes\n",
    "bike_master_clean.head()\n",
    "bike_master_clean.shape\n",
    "null_percentages = (bike_master_clean.isnull().sum() / len(bike_master_clean)) * 100\n",
    "bike_master_clean_no_nulls = bike_master_clean.dropna()\n",
    "bike_master_clean_no_nulls.isnull().sum()\n"
   ]
  },
  {
   "cell_type": "code",
   "execution_count": 5,
   "metadata": {},
   "outputs": [
    {
     "name": "stdout",
     "output_type": "stream",
     "text": [
      "Shape before removing nulls: (10693997, 13)\n",
      "Shape after removing nulls: (9572692, 13)\n",
      "\n",
      "Total rows removed: 1121305\n",
      "Percentage of rows removed: 10.49%\n"
     ]
    }
   ],
   "source": [
    "# Print shape before removing nulls\n",
    "print(\"Shape before removing nulls:\", bike_master_clean.shape)\n",
    "\n",
    "# Remove nulls and store in new DataFrame\n",
    "bike_master_clean_no_nulls = bike_master_clean.dropna()\n",
    "\n",
    "# Print shape after removing nulls\n",
    "print(\"Shape after removing nulls:\", bike_master_clean_no_nulls.shape)\n",
    "\n",
    "# Calculate and print the difference\n",
    "rows_removed = bike_master_clean.shape[0] - bike_master_clean_no_nulls.shape[0]\n",
    "print(f\"\\nTotal rows removed: {rows_removed}\")\n",
    "print(f\"Percentage of rows removed: {(rows_removed/bike_master_clean.shape[0]*100):.2f}%\")"
   ]
  },
  {
   "cell_type": "code",
   "execution_count": 7,
   "metadata": {},
   "outputs": [],
   "source": [
    "bike_new = bike_master_clean_no_nulls\n"
   ]
  },
  {
   "cell_type": "code",
   "execution_count": 8,
   "metadata": {},
   "outputs": [
    {
     "data": {
      "text/html": [
       "<div>\n",
       "<style scoped>\n",
       "    .dataframe tbody tr th:only-of-type {\n",
       "        vertical-align: middle;\n",
       "    }\n",
       "\n",
       "    .dataframe tbody tr th {\n",
       "        vertical-align: top;\n",
       "    }\n",
       "\n",
       "    .dataframe thead th {\n",
       "        text-align: right;\n",
       "    }\n",
       "</style>\n",
       "<table border=\"1\" class=\"dataframe\">\n",
       "  <thead>\n",
       "    <tr style=\"text-align: right;\">\n",
       "      <th></th>\n",
       "      <th>ride_id</th>\n",
       "      <th>rideable_type</th>\n",
       "      <th>started_at</th>\n",
       "      <th>ended_at</th>\n",
       "      <th>start_station_name</th>\n",
       "      <th>start_station_id</th>\n",
       "      <th>end_station_name</th>\n",
       "      <th>end_station_id</th>\n",
       "      <th>start_lat</th>\n",
       "      <th>start_lng</th>\n",
       "      <th>end_lat</th>\n",
       "      <th>end_lng</th>\n",
       "      <th>member_casual</th>\n",
       "    </tr>\n",
       "  </thead>\n",
       "  <tbody>\n",
       "    <tr>\n",
       "      <th>0</th>\n",
       "      <td>5CB9DFCECF79AF84</td>\n",
       "      <td>classic_bike</td>\n",
       "      <td>2021-01-01 00:08:33</td>\n",
       "      <td>2021-01-01 00:33:53</td>\n",
       "      <td>Maine Ave &amp; 9th St SW</td>\n",
       "      <td>31646.0</td>\n",
       "      <td>Rosslyn Metro / Wilson Blvd &amp; Ft Myer Dr</td>\n",
       "      <td>31015.0</td>\n",
       "      <td>38.880440</td>\n",
       "      <td>-77.025236</td>\n",
       "      <td>38.894600</td>\n",
       "      <td>-77.072305</td>\n",
       "      <td>member</td>\n",
       "    </tr>\n",
       "    <tr>\n",
       "      <th>2</th>\n",
       "      <td>E74069873161EE33</td>\n",
       "      <td>electric_bike</td>\n",
       "      <td>2021-01-01 00:14:32</td>\n",
       "      <td>2021-01-01 00:28:45</td>\n",
       "      <td>17th &amp; Corcoran St NW</td>\n",
       "      <td>31214.0</td>\n",
       "      <td>14th &amp; Belmont St NW</td>\n",
       "      <td>31119.0</td>\n",
       "      <td>38.912138</td>\n",
       "      <td>-77.038568</td>\n",
       "      <td>38.920870</td>\n",
       "      <td>-77.031691</td>\n",
       "      <td>member</td>\n",
       "    </tr>\n",
       "    <tr>\n",
       "      <th>3</th>\n",
       "      <td>91F95E512CABC46A</td>\n",
       "      <td>classic_bike</td>\n",
       "      <td>2021-01-01 00:15:45</td>\n",
       "      <td>2021-01-01 00:21:20</td>\n",
       "      <td>Wilson Blvd. &amp; N. Vermont St.</td>\n",
       "      <td>31926.0</td>\n",
       "      <td>Wilson Blvd. &amp; N. Vermont St.</td>\n",
       "      <td>31926.0</td>\n",
       "      <td>38.879477</td>\n",
       "      <td>-77.114563</td>\n",
       "      <td>38.879477</td>\n",
       "      <td>-77.114563</td>\n",
       "      <td>member</td>\n",
       "    </tr>\n",
       "    <tr>\n",
       "      <th>4</th>\n",
       "      <td>DA46A05139C0EA2F</td>\n",
       "      <td>classic_bike</td>\n",
       "      <td>2021-01-01 00:17:46</td>\n",
       "      <td>2021-01-01 00:21:00</td>\n",
       "      <td>11th &amp; Park Rd NW</td>\n",
       "      <td>31651.0</td>\n",
       "      <td>14th &amp; Newton St NW</td>\n",
       "      <td>31649.0</td>\n",
       "      <td>38.931322</td>\n",
       "      <td>-77.028247</td>\n",
       "      <td>38.931991</td>\n",
       "      <td>-77.032956</td>\n",
       "      <td>member</td>\n",
       "    </tr>\n",
       "    <tr>\n",
       "      <th>6</th>\n",
       "      <td>0535306B61EF92F9</td>\n",
       "      <td>classic_bike</td>\n",
       "      <td>2021-01-01 00:19:06</td>\n",
       "      <td>2021-01-01 00:36:28</td>\n",
       "      <td>Bladensburg Rd &amp; Benning Rd NE</td>\n",
       "      <td>31617.0</td>\n",
       "      <td>Good Hope Rd &amp; MLK Ave SE</td>\n",
       "      <td>31802.0</td>\n",
       "      <td>38.900413</td>\n",
       "      <td>-76.982872</td>\n",
       "      <td>38.867373</td>\n",
       "      <td>-76.988039</td>\n",
       "      <td>casual</td>\n",
       "    </tr>\n",
       "  </tbody>\n",
       "</table>\n",
       "</div>"
      ],
      "text/plain": [
       "            ride_id  rideable_type          started_at            ended_at  \\\n",
       "0  5CB9DFCECF79AF84   classic_bike 2021-01-01 00:08:33 2021-01-01 00:33:53   \n",
       "2  E74069873161EE33  electric_bike 2021-01-01 00:14:32 2021-01-01 00:28:45   \n",
       "3  91F95E512CABC46A   classic_bike 2021-01-01 00:15:45 2021-01-01 00:21:20   \n",
       "4  DA46A05139C0EA2F   classic_bike 2021-01-01 00:17:46 2021-01-01 00:21:00   \n",
       "6  0535306B61EF92F9   classic_bike 2021-01-01 00:19:06 2021-01-01 00:36:28   \n",
       "\n",
       "               start_station_name start_station_id  \\\n",
       "0           Maine Ave & 9th St SW          31646.0   \n",
       "2           17th & Corcoran St NW          31214.0   \n",
       "3   Wilson Blvd. & N. Vermont St.          31926.0   \n",
       "4               11th & Park Rd NW          31651.0   \n",
       "6  Bladensburg Rd & Benning Rd NE          31617.0   \n",
       "\n",
       "                           end_station_name end_station_id  start_lat  \\\n",
       "0  Rosslyn Metro / Wilson Blvd & Ft Myer Dr        31015.0  38.880440   \n",
       "2                      14th & Belmont St NW        31119.0  38.912138   \n",
       "3             Wilson Blvd. & N. Vermont St.        31926.0  38.879477   \n",
       "4                       14th & Newton St NW        31649.0  38.931322   \n",
       "6                 Good Hope Rd & MLK Ave SE        31802.0  38.900413   \n",
       "\n",
       "   start_lng    end_lat    end_lng member_casual  \n",
       "0 -77.025236  38.894600 -77.072305        member  \n",
       "2 -77.038568  38.920870 -77.031691        member  \n",
       "3 -77.114563  38.879477 -77.114563        member  \n",
       "4 -77.028247  38.931991 -77.032956        member  \n",
       "6 -76.982872  38.867373 -76.988039        casual  "
      ]
     },
     "execution_count": 8,
     "metadata": {},
     "output_type": "execute_result"
    }
   ],
   "source": [
    "bike_new.head()"
   ]
  }
 ],
 "metadata": {
  "kernelspec": {
   "display_name": "CAB_V1",
   "language": "python",
   "name": "python3"
  },
  "language_info": {
   "codemirror_mode": {
    "name": "ipython",
    "version": 3
   },
   "file_extension": ".py",
   "mimetype": "text/x-python",
   "name": "python",
   "nbconvert_exporter": "python",
   "pygments_lexer": "ipython3",
   "version": "3.12.2"
  }
 },
 "nbformat": 4,
 "nbformat_minor": 2
}
