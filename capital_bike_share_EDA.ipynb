{
 "cells": [
  {
   "cell_type": "code",
   "execution_count": 5,
   "metadata": {},
   "outputs": [],
   "source": [
    "import pandas as pd\n",
    "import numpy as np\n",
    "import matplotlib.pyplot as plt\n",
    "import seaborn as sk\n",
    "\n",
    "bike_daily = pd.read_csv('daily_weather.csv')\n",
    "bike_master = pd.read_csv('bike_full.csv', dtype={5: str, 7: str})  # Convert both columns to strings\n",
    "\n"
   ]
  },
  {
   "cell_type": "code",
   "execution_count": 12,
   "metadata": {},
   "outputs": [],
   "source": [
    "bike_master_clean = bike_master.copy()\n",
    "\n",
    "# Convert datetime columns\n",
    "bike_master_clean['started_at'] = pd.to_datetime(bike_master_clean['started_at'])\n",
    "bike_master_clean['ended_at'] = pd.to_datetime(bike_master_clean['ended_at'])\n",
    "\n",
    "# Convert category columns\n",
    "category_columns = ['rideable_type', 'start_station_name', 'end_station_name', 'member_casual']\n",
    "for col in category_columns:\n",
    "    bike_master_clean[col] = bike_master_clean[col].astype('category')\n",
    "\n",
    "# Convert string columns (IDs)\n",
    "string_columns = ['ride_id', 'start_station_id', 'end_station_id']\n",
    "for col in string_columns:\n",
    "    bike_master_clean[col] = bike_master_clean[col].astype('string')\n",
    "\n"
   ]
  },
  {
   "cell_type": "code",
   "execution_count": null,
   "metadata": {},
   "outputs": [
    {
     "data": {
      "text/plain": [
       "Index([       0,        2,        3,        4,        6,        8,        9,\n",
       "             10,       11,       12,\n",
       "       ...\n",
       "       10693984, 10693986, 10693987, 10693989, 10693990, 10693991, 10693992,\n",
       "       10693993, 10693994, 10693995],\n",
       "      dtype='int64', length=9572692)"
      ]
     },
     "execution_count": 23,
     "metadata": {},
     "output_type": "execute_result"
    }
   ],
   "source": [
    "bike_master_clean.dtypes\n",
    "bike_master_clean.head()\n",
    "null_percentages = (bike_master_clean.isnull().sum() / len(bike_master_clean)) * 100\n",
    "bike_master_clean_no_nulls = bike_master_clean.dropna()\n",
    "bike_master_clean_no_nulls.isnull().sum()\n",
    "bike_master_clean_no_nu"
   ]
  },
  {
   "cell_type": "code",
   "execution_count": null,
   "metadata": {},
   "outputs": [],
   "source": []
  }
 ],
 "metadata": {
  "kernelspec": {
   "display_name": "CAB_V1",
   "language": "python",
   "name": "python3"
  },
  "language_info": {
   "codemirror_mode": {
    "name": "ipython",
    "version": 3
   },
   "file_extension": ".py",
   "mimetype": "text/x-python",
   "name": "python",
   "nbconvert_exporter": "python",
   "pygments_lexer": "ipython3",
   "version": "3.12.2"
  }
 },
 "nbformat": 4,
 "nbformat_minor": 2
}
